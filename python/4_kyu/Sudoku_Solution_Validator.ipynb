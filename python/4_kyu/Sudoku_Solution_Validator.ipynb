{
 "cells": [
  {
   "cell_type": "markdown",
   "id": "d7c4b786-ae67-44fd-b806-4d4b7f305426",
   "metadata": {},
   "source": [
    "```\n",
    "\n",
    "https://www.codewars.com/kata/529bf0e9bdf7657179000008/train/python\n",
    "\n",
    "Sudoku Background\n",
    "Sudoku is a game played on a 9x9 grid. The goal of the game is to fill all cells of the grid with digits from 1 to 9, so that each column, each row, and each of the nine 3x3 sub-grids (also known as blocks) contain all of the digits from 1 to 9.\n",
    "(More info at: http://en.wikipedia.org/wiki/Sudoku)\n",
    "\n",
    "Sudoku Solution Validator\n",
    "Write a function validSolution/ValidateSolution/valid_solution() that accepts a 2D array representing a Sudoku board, and returns true if it is a valid solution, or false otherwise. The cells of the sudoku board may also contain 0's, which will represent empty cells. Boards containing one or more zeroes are considered to be invalid solutions.\n",
    "\n",
    "The board is always 9 cells by 9 cells, and every cell only contains integers from 0 to 9.\n",
    "```"
   ]
  },
  {
   "cell_type": "code",
   "execution_count": 251,
   "id": "8d706994-c067-4523-a001-7210b6220fc2",
   "metadata": {},
   "outputs": [],
   "source": [
    "valid_board = [\n",
    "  [5, 3, 4, 6, 7, 8, 9, 1, 2],\n",
    "  [6, 7, 2, 1, 9, 5, 3, 4, 8],\n",
    "  [1, 9, 8, 3, 4, 2, 5, 6, 7],\n",
    "  [8, 5, 9, 7, 6, 1, 4, 2, 3],\n",
    "  [4, 2, 6, 8, 5, 3, 7, 9, 1],\n",
    "  [7, 1, 3, 9, 2, 4, 8, 5, 6],\n",
    "  [9, 6, 1, 5, 3, 7, 2, 8, 4],\n",
    "  [2, 8, 7, 4, 1, 9, 6, 3, 5],\n",
    "  [3, 4, 5, 2, 8, 6, 1, 7, 9]\n",
    "]\n",
    "\n",
    "invalid_board = [\n",
    "    [1, 3, 2, 5, 7, 9, 4, 6, 8],\n",
    "    [4, 9, 8, 2, 6, 1, 3, 7, 5],\n",
    "    [7, 5, 6, 3, 8, 4, 2, 1, 9],\n",
    "    [6, 4, 3, 1, 5, 8, 7, 9, 2],\n",
    "    [5, 2, 1, 7, 9, 3, 8, 4, 6],\n",
    "    [9, 8, 7, 4, 2, 6, 5, 3, 1],\n",
    "    [2, 1, 4, 9, 3, 5, 6, 8, 7],\n",
    "    [3, 6, 5, 8, 1, 7, 9, 2, 4],\n",
    "    [8, 7, 9, 6, 4, 2, 1, 3, 5]\n",
    "]\n"
   ]
  },
  {
   "cell_type": "code",
   "execution_count": 277,
   "id": "7ed1e48d-09cf-4edc-88bc-91c02719ecfc",
   "metadata": {},
   "outputs": [
    {
     "data": {
      "text/plain": [
       "True"
      ]
     },
     "execution_count": 277,
     "metadata": {},
     "output_type": "execute_result"
    }
   ],
   "source": [
    "def valid_solution(board):\n",
    "    \n",
    "    check = {1, 2, 3, 4, 5, 6, 7, 8, 9}\n",
    "    \n",
    "    if not all(set(row) == check for row in board):\n",
    "        return False\n",
    "    \n",
    "    transponded_board = zip(*board)\n",
    "    \n",
    "    if not all(set(col) == check for col in transponded_board):\n",
    "        return False\n",
    "    \n",
    "    row_start, row_stop = (0, 3)\n",
    "    col_start, col_stop  = (0, 3)\n",
    "    \n",
    "    while row_start <= 6:\n",
    "        three_x_three = set()\n",
    "        for block in range(row_start, row_stop):\n",
    "            for row in range(row_start, row_stop):\n",
    "                for col in range(col_start, col_stop):\n",
    "                    three_x_three.add(board[row][col])\n",
    "            if three_x_three != check:\n",
    "                return False\n",
    "\n",
    "            three_x_three = set()\n",
    "            col_start += 3\n",
    "            col_stop += 3\n",
    "        row_start += 3\n",
    "        row_stop += 3\n",
    "        col_start, col_stop  = (0, 3)\n",
    "    return True\n",
    "    \n",
    "valid_solution(valid_board)"
   ]
  }
 ],
 "metadata": {
  "kernelspec": {
   "display_name": "Python 3 (ipykernel)",
   "language": "python",
   "name": "python3"
  },
  "language_info": {
   "codemirror_mode": {
    "name": "ipython",
    "version": 3
   },
   "file_extension": ".py",
   "mimetype": "text/x-python",
   "name": "python",
   "nbconvert_exporter": "python",
   "pygments_lexer": "ipython3",
   "version": "3.10.6"
  }
 },
 "nbformat": 4,
 "nbformat_minor": 5
}
