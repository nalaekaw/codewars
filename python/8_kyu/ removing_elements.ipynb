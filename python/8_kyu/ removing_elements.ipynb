{
 "cells": [
  {
   "cell_type": "markdown",
   "id": "7cd0d6cb-c37f-475f-9276-ee2455a64311",
   "metadata": {},
   "source": [
    "Take an array and remove every second element from the array. Always keep the first element and start removing with the next element.\n",
    "\n",
    "Example:\n",
    "```\n",
    "[\"Keep\", \"Remove\", \"Keep\", \"Remove\", \"Keep\", ...] --> [\"Keep\", \"Keep\", \"Keep\", ...]\n",
    "```\n",
    "\n",
    "None of the arrays will be empty, so you don't have to worry about that!\n",
    "\n",
    "Sample Tests\n",
    "\n",
    "```python\n",
    "test.assert_equals(remove_every_other(['Hello', 'Goodbye', 'Hello Again']),\n",
    "                   ['Hello', 'Hello Again'])\n",
    "test.assert_equals(remove_every_other([1, 2, 3, 4, 5, 6, 7, 8, 9, 10]),\n",
    "                   [1, 3, 5, 7, 9])\n",
    "test.assert_equals(remove_every_other([[1, 2]]), [[1, 2]])\n",
    "test.assert_equals(remove_every_other([['Goodbye'], {'Great': 'Job'}]),\n",
    "                   [['Goodbye']])\n",
    "```"
   ]
  },
  {
   "cell_type": "code",
   "execution_count": null,
   "id": "209e9c83-8a7d-4915-925c-2fa2da18b185",
   "metadata": {},
   "outputs": [
    {
     "ename": "",
     "evalue": "",
     "output_type": "error",
     "traceback": [
      "\u001b[1;31mJupyter cannot be started. Error attempting to locate Jupyter: Running cells with 'Python 3.10.6 ('utils')' requires jupyter and notebook package.\n",
      "\u001b[1;31mRun the following command to install 'jupyter and notebook' into the Python environment. \n",
      "\u001b[1;31mCommand: 'python -m pip install jupyter notebook -U\n",
      "\u001b[1;31mor\n",
      "\u001b[1;31mconda install jupyter notebook -U'\n",
      "\u001b[1;31mClick <a href='https://aka.ms/installJupyterForVSCode'>here</a> for more info."
     ]
    }
   ],
   "source": [
    "def remove_every_other(my_list):\n",
    "    return [my_list[i] for i in range(0, len(my_list), 2)]\n"
   ]
  },
  {
   "cell_type": "code",
   "execution_count": 10,
   "id": "028fdb5b-70c5-4dfd-b4fe-d29f7e70a599",
   "metadata": {},
   "outputs": [
    {
     "data": {
      "text/plain": [
       "['Keep', 'Keep', 'Keep']"
      ]
     },
     "execution_count": 10,
     "metadata": {},
     "output_type": "execute_result"
    }
   ],
   "source": [
    "remove_every_other([\"Keep\", \"Remove\", \"Keep\", \"Remove\", \"Keep\"])"
   ]
  },
  {
   "cell_type": "code",
   "execution_count": 11,
   "id": "ba0b259d-32f6-4739-8dff-5606e9c11fd4",
   "metadata": {},
   "outputs": [],
   "source": [
    "# ps\n",
    "def remove_every_other(my_list):\n",
    "    return my_list[::2]"
   ]
  }
 ],
 "metadata": {
  "kernelspec": {
   "display_name": "Python 3.10.6 ('utils')",
   "language": "python",
   "name": "python3"
  },
  "language_info": {
   "codemirror_mode": {
    "name": "ipython",
    "version": 3
   },
   "file_extension": ".py",
   "mimetype": "text/x-python",
   "name": "python",
   "nbconvert_exporter": "python",
   "pygments_lexer": "ipython3",
   "version": "3.10.6"
  },
  "vscode": {
   "interpreter": {
    "hash": "621884175539dfa240f66964bba6a7e3dfe9a3247612430d76054993f5f3cc94"
   }
  }
 },
 "nbformat": 4,
 "nbformat_minor": 5
}
